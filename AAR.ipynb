{
 "cells": [
  {
   "cell_type": "markdown",
   "id": "8a5c849f",
   "metadata": {},
   "source": [
    "AAR（氨基酸风险评分）  \n",
    "与RMSD等有所不同，AAR从序列的角度来评判抗体，主要就是对比得到的人工抗体序列和天然抗体序列的相似性。可以通过多种评分方式来进行计算"
   ]
  },
  {
   "cell_type": "markdown",
   "id": "4e73d674",
   "metadata": {},
   "source": [
    "所需要提供的原始数据即  \n",
    "人工抗体序列\n",
    "天然抗体序列"
   ]
  },
  {
   "cell_type": "code",
   "execution_count": null,
   "id": "f004d61e",
   "metadata": {},
   "outputs": [],
   "source": [
    "from Bio import SeqIO\n",
    "from Bio.Align import MultipleSeqAlignment\n",
    "\n",
    "def calculate_aar(natural_seq_file, generated_seq_file):\n",
    "    # 读取天然抗体序列\n",
    "    natural_seq = SeqIO.read(natural_seq_file, \"fasta\")\n",
    "    natural_seq_str = str(natural_seq.seq)\n",
    "\n",
    "    # 读取生成抗体序列\n",
    "    generated_seq = SeqIO.read(generated_seq_file, \"fasta\")\n",
    "    generated_seq_str = str(generated_seq.seq)\n",
    "\n",
    "    # 序列比对（这里使用简单的全局比对，实际应用中可根据需求选择更复杂的比对方法）\n",
    "    from Bio import pairwise2\n",
    "    from Bio.pairwise2 import format_alignment\n",
    "    alignments = pairwise2.align.globalxx(natural_seq_str, generated_seq_str)\n",
    "    aligned_natural = alignments[0][0]\n",
    "    aligned_generated = alignments[0][1]\n",
    "\n",
    "    # 计算相同氨基酸的数量\n",
    "    same_amino_acids = sum(1 for a, b in zip(aligned_natural, aligned_generated) if a == b)\n",
    "\n",
    "    # 计算AAR\n",
    "    aar = (same_amino_acids / len(natural_seq_str)) * 100\n",
    "    return aar\n",
    "\n",
    "# 示例用法\n",
    "natural_seq_file = \"natural_sequence.fasta\"\n",
    "generated_seq_file = \"generated_sequence.fasta\"\n",
    "aar = calculate_aar(natural_seq_file, generated_seq_file)\n",
    "print(f\"Amino Acid Recovery (AAR): {aar}%\")"
   ]
  },
  {
   "cell_type": "markdown",
   "id": "894d57ea",
   "metadata": {},
   "source": [
    "直接给定的一些示例方案"
   ]
  },
  {
   "cell_type": "code",
   "execution_count": null,
   "id": "6a89ede5",
   "metadata": {},
   "outputs": [],
   "source": [
    "# 计算聚集倾向和稳定性风险\n",
    "import numpy as np\n",
    "\n",
    "AAR_SCORES = {\n",
    "    'C': 0.8, 'W': 0.7, 'I': 0.6, 'V': 0.5, \n",
    "    'F': 0.5, 'Y': 0.4, 'L': 0.3, 'M': 0.2,\n",
    "    'H': 0.1, 'T': 0.0, 'G': -0.1, 'A': -0.2,\n",
    "    'P': -0.3, 'S': -0.4, 'R': -0.5, 'N': -0.6,\n",
    "    'D': -0.7, 'Q': -0.7, 'E': -0.8, 'K': -0.9\n",
    "}\n",
    "\n",
    "def calculate_aar(sequence):\n",
    "    scores = [AAR_SCORES.get(aa, 0) for aa in sequence]\n",
    "    return np.mean(scores)\n",
    "\n",
    "aar_score = calculate_aar(antibody_seq)\n",
    "print(f\"AAR Score: {aar_score:.4f}\")"
   ]
  }
 ],
 "metadata": {
  "language_info": {
   "name": "python"
  }
 },
 "nbformat": 4,
 "nbformat_minor": 5
}
