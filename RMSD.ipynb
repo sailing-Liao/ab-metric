{
 "cells": [
  {
   "cell_type": "markdown",
   "id": "ae17338e",
   "metadata": {},
   "source": [
    "RMSD 计算  \n",
    "本质为从结构的角度去判断两个蛋白质分子之间的差异  \n",
    "在抗体预测中，往往将人工预测抗体与天然抗体进行比较，一般来说，与天然抗体越接近，则最终的结果就越好  "
   ]
  },
  {
   "cell_type": "code",
   "execution_count": null,
   "id": "c0200226",
   "metadata": {},
   "outputs": [],
   "source": [
    "from rmsd.calculate_rmsd import main\n",
    "\n",
    "if __name__ == \"__main__\":\n",
    "    result = main()\n",
    "    print(result)"
   ]
  },
  {
   "cell_type": "markdown",
   "id": "21a53348",
   "metadata": {},
   "source": [
    "有实际的库可以进行计算，原函数有2000多行，可直接由命令行获得计算结果，提供两个蛋白的pdb结果即可"
   ]
  },
  {
   "cell_type": "code",
   "execution_count": null,
   "id": "2d5d635d",
   "metadata": {},
   "outputs": [],
   "source": [
    "pip install rmsd\n",
    "calculate_rmsd tests/ethane.pdb tests/ethane_translate.pdb\n",
    "calculate_rmsd --no-hydrogen --print tests/ethane.xyz tests/ethane_mini.xyz\n",
    "calculate_rmsd --reorder tests/water_16.xyz tests/water_16_idx.xyz"
   ]
  },
  {
   "cell_type": "markdown",
   "id": "29b41b23",
   "metadata": {},
   "source": [
    "有关所需PDB格式的简要说明 https://www.wwpdb.org/documentation/file-format-content/format33/sect9.html#ATOM"
   ]
  },
  {
   "cell_type": "code",
   "execution_count": null,
   "id": "290be3f5",
   "metadata": {},
   "outputs": [],
   "source": [
    "class SmartRMSD:\n",
    "    def __init__(self, device=\"cuda\"):\n",
    "        self.device = device\n",
    "\n",
    "    def from_coords(self, pred_coords, true_coords):\n",
    "        \"\"\"直接从坐标计算(需预对齐)\"\"\"\n",
    "        return self._basic_rmsd(pred_coords, true_coords)\n",
    "\n",
    "    def from_pdb(self, pred_pdb, true_pdb, options=\"\"):\n",
    "        \"\"\"从PDB文件计算(使用rmsd库)\"\"\"\n",
    "        cmd = f\"calculate_rmsd {options} {pred_pdb} {true_pdb}\"\n",
    "        result = subprocess.check_output(cmd, shell=True)\n",
    "        return float(result.decode().strip())\n",
    "\n",
    "    def differentiable(self, pred_coords, true_coords):\n",
    "        \"\"\"可微分RMSD(用于训练)\"\"\"\n",
    "        aligned = self._kabsch_align(pred_coords, true_coords)\n",
    "        return self._basic_rmsd(aligned, true_coords)\n",
    "\n",
    "    def _basic_rmsd(self, P, Q):\n",
    "        sq_diff = torch.sum((P - Q) ** 2, dim=-1)\n",
    "        return torch.sqrt(torch.mean(sq_diff))\n",
    "\n",
    "    def _kabsch_align(self, P, Q):\n",
    "        # 可微分Kabsch实现 (如前所示)\n",
    "        ...\n",
    "\n",
    "    def cdr_rmsd(self, pred_pdb, true_pdb, cdr_name=\"H3\"):\n",
    "        \"\"\"CDR特异性RMSD\"\"\"\n",
    "        cdr_ranges = {\"H1\": (26, 35), \"H2\": (50, 58), \"H3\": (95, 102)}\n",
    "        start, end = cdr_ranges[cdr_name]\n",
    "        return self.from_pdb(pred_pdb, true_pdb, f\"--select='resid {start}-{end}'\")"
   ]
  },
  {
   "cell_type": "markdown",
   "id": "80561f99",
   "metadata": {},
   "source": [
    "该方式则可将pdb格式转为tensor，并使用pytorch进行计算"
   ]
  }
 ],
 "metadata": {
  "language_info": {
   "name": "python"
  }
 },
 "nbformat": 4,
 "nbformat_minor": 5
}
